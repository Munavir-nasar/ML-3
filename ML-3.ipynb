{
 "cells": [
  {
   "cell_type": "code",
   "execution_count": 1,
   "id": "3fd79eeb-e3c3-4249-8d36-788d3e32f824",
   "metadata": {},
   "outputs": [],
   "source": [
    "import warnings\n",
    "import sys\n",
    "if not sys.warnoptions:\n",
    "    warnings.simplefilter(\"ignore\")"
   ]
  },
  {
   "cell_type": "code",
   "execution_count": 2,
   "id": "00f8f14d-6b39-4fcf-8c56-6d9bb6063c97",
   "metadata": {},
   "outputs": [],
   "source": [
    "import pandas as pd\n",
    "import numpy as np\n",
    "import matplotlib.pyplot as plt\n",
    "import seaborn as sns"
   ]
  },
  {
   "cell_type": "markdown",
   "id": "15525fda-ca87-4821-9049-00c6aa11d180",
   "metadata": {},
   "source": [
    "### LOADING AND PREPROCESSING"
   ]
  },
  {
   "cell_type": "code",
   "execution_count": 3,
   "id": "9c34f596-db37-48fe-ac65-32b0dc17c547",
   "metadata": {},
   "outputs": [
    {
     "name": "stdout",
     "output_type": "stream",
     "text": [
      "Initial Dataset:\n",
      "   MedInc  HouseAge  AveRooms  AveBedrms  Population  AveOccup  Latitude  \\\n",
      "0  8.3252      41.0  6.984127   1.023810       322.0  2.555556     37.88   \n",
      "1  8.3014      21.0  6.238137   0.971880      2401.0  2.109842     37.86   \n",
      "2  7.2574      52.0  8.288136   1.073446       496.0  2.802260     37.85   \n",
      "3  5.6431      52.0  5.817352   1.073059       558.0  2.547945     37.85   \n",
      "4  3.8462      52.0  6.281853   1.081081       565.0  2.181467     37.85   \n",
      "\n",
      "   Longitude  \n",
      "0    -122.23  \n",
      "1    -122.22  \n",
      "2    -122.24  \n",
      "3    -122.25  \n",
      "4    -122.25  \n",
      "\n",
      "Target Dataset:\n",
      "0    4.526\n",
      "1    3.585\n",
      "2    3.521\n",
      "3    3.413\n",
      "4    3.422\n",
      "dtype: float64\n"
     ]
    }
   ],
   "source": [
    "from sklearn.datasets import fetch_california_housing\n",
    "\n",
    "data = fetch_california_housing()\n",
    "\n",
    "# Convert the dataset into a pandas DataFrame\n",
    "X = pd.DataFrame(data.data, columns=data.feature_names)\n",
    "Y = pd.Series(data.target)\n",
    "\n",
    "# Display the first few rows of the dataset\n",
    "print(\"Initial Dataset:\")\n",
    "print(X.head())\n",
    "print(\"\\nTarget Dataset:\")\n",
    "print(Y.head())"
   ]
  },
  {
   "cell_type": "markdown",
   "id": "b23fe464-c104-4ecc-9497-fc34ec089310",
   "metadata": {},
   "source": [
    "##### -  loaded the California Housing dataset using fetch_california_housing from scikit-learn.\n",
    "##### - The dataset was converted into a Pandas DataFrame for easier manipulation and analysis."
   ]
  },
  {
   "cell_type": "code",
   "execution_count": 4,
   "id": "b3ec6b4f-c774-4e98-931d-33fceb6f03b4",
   "metadata": {},
   "outputs": [
    {
     "name": "stdout",
     "output_type": "stream",
     "text": [
      "<class 'pandas.core.frame.DataFrame'>\n",
      "RangeIndex: 20640 entries, 0 to 20639\n",
      "Data columns (total 8 columns):\n",
      " #   Column      Non-Null Count  Dtype  \n",
      "---  ------      --------------  -----  \n",
      " 0   MedInc      20640 non-null  float64\n",
      " 1   HouseAge    20640 non-null  float64\n",
      " 2   AveRooms    20640 non-null  float64\n",
      " 3   AveBedrms   20640 non-null  float64\n",
      " 4   Population  20640 non-null  float64\n",
      " 5   AveOccup    20640 non-null  float64\n",
      " 6   Latitude    20640 non-null  float64\n",
      " 7   Longitude   20640 non-null  float64\n",
      "dtypes: float64(8)\n",
      "memory usage: 1.3 MB\n"
     ]
    }
   ],
   "source": [
    "X.info()"
   ]
  },
  {
   "cell_type": "code",
   "execution_count": 34,
   "id": "cbcc179e-858e-4b9d-b0e2-bf4c8993ca63",
   "metadata": {},
   "outputs": [
    {
     "data": {
      "text/html": [
       "<div>\n",
       "<style scoped>\n",
       "    .dataframe tbody tr th:only-of-type {\n",
       "        vertical-align: middle;\n",
       "    }\n",
       "\n",
       "    .dataframe tbody tr th {\n",
       "        vertical-align: top;\n",
       "    }\n",
       "\n",
       "    .dataframe thead th {\n",
       "        text-align: right;\n",
       "    }\n",
       "</style>\n",
       "<table border=\"1\" class=\"dataframe\">\n",
       "  <thead>\n",
       "    <tr style=\"text-align: right;\">\n",
       "      <th></th>\n",
       "      <th>MedInc</th>\n",
       "      <th>HouseAge</th>\n",
       "      <th>AveRooms</th>\n",
       "      <th>AveBedrms</th>\n",
       "      <th>Population</th>\n",
       "      <th>AveOccup</th>\n",
       "      <th>Latitude</th>\n",
       "      <th>Longitude</th>\n",
       "    </tr>\n",
       "  </thead>\n",
       "  <tbody>\n",
       "    <tr>\n",
       "      <th>count</th>\n",
       "      <td>20640.000000</td>\n",
       "      <td>20640.000000</td>\n",
       "      <td>20640.000000</td>\n",
       "      <td>20640.000000</td>\n",
       "      <td>20640.000000</td>\n",
       "      <td>20640.000000</td>\n",
       "      <td>20640.000000</td>\n",
       "      <td>20640.000000</td>\n",
       "    </tr>\n",
       "    <tr>\n",
       "      <th>mean</th>\n",
       "      <td>3.870671</td>\n",
       "      <td>28.639486</td>\n",
       "      <td>5.429000</td>\n",
       "      <td>1.096675</td>\n",
       "      <td>1425.476744</td>\n",
       "      <td>3.070655</td>\n",
       "      <td>35.631861</td>\n",
       "      <td>-119.569704</td>\n",
       "    </tr>\n",
       "    <tr>\n",
       "      <th>std</th>\n",
       "      <td>1.899822</td>\n",
       "      <td>12.585558</td>\n",
       "      <td>2.474173</td>\n",
       "      <td>0.473911</td>\n",
       "      <td>1132.462122</td>\n",
       "      <td>10.386050</td>\n",
       "      <td>2.135952</td>\n",
       "      <td>2.003532</td>\n",
       "    </tr>\n",
       "    <tr>\n",
       "      <th>min</th>\n",
       "      <td>0.499900</td>\n",
       "      <td>1.000000</td>\n",
       "      <td>0.846154</td>\n",
       "      <td>0.333333</td>\n",
       "      <td>3.000000</td>\n",
       "      <td>0.692308</td>\n",
       "      <td>32.540000</td>\n",
       "      <td>-124.350000</td>\n",
       "    </tr>\n",
       "    <tr>\n",
       "      <th>25%</th>\n",
       "      <td>2.563400</td>\n",
       "      <td>18.000000</td>\n",
       "      <td>4.440716</td>\n",
       "      <td>1.006079</td>\n",
       "      <td>787.000000</td>\n",
       "      <td>2.429741</td>\n",
       "      <td>33.930000</td>\n",
       "      <td>-121.800000</td>\n",
       "    </tr>\n",
       "    <tr>\n",
       "      <th>50%</th>\n",
       "      <td>3.534800</td>\n",
       "      <td>29.000000</td>\n",
       "      <td>5.229129</td>\n",
       "      <td>1.048780</td>\n",
       "      <td>1166.000000</td>\n",
       "      <td>2.818116</td>\n",
       "      <td>34.260000</td>\n",
       "      <td>-118.490000</td>\n",
       "    </tr>\n",
       "    <tr>\n",
       "      <th>75%</th>\n",
       "      <td>4.743250</td>\n",
       "      <td>37.000000</td>\n",
       "      <td>6.052381</td>\n",
       "      <td>1.099526</td>\n",
       "      <td>1725.000000</td>\n",
       "      <td>3.282261</td>\n",
       "      <td>37.710000</td>\n",
       "      <td>-118.010000</td>\n",
       "    </tr>\n",
       "    <tr>\n",
       "      <th>max</th>\n",
       "      <td>15.000100</td>\n",
       "      <td>52.000000</td>\n",
       "      <td>141.909091</td>\n",
       "      <td>34.066667</td>\n",
       "      <td>35682.000000</td>\n",
       "      <td>1243.333333</td>\n",
       "      <td>41.950000</td>\n",
       "      <td>-114.310000</td>\n",
       "    </tr>\n",
       "  </tbody>\n",
       "</table>\n",
       "</div>"
      ],
      "text/plain": [
       "             MedInc      HouseAge      AveRooms     AveBedrms    Population  \\\n",
       "count  20640.000000  20640.000000  20640.000000  20640.000000  20640.000000   \n",
       "mean       3.870671     28.639486      5.429000      1.096675   1425.476744   \n",
       "std        1.899822     12.585558      2.474173      0.473911   1132.462122   \n",
       "min        0.499900      1.000000      0.846154      0.333333      3.000000   \n",
       "25%        2.563400     18.000000      4.440716      1.006079    787.000000   \n",
       "50%        3.534800     29.000000      5.229129      1.048780   1166.000000   \n",
       "75%        4.743250     37.000000      6.052381      1.099526   1725.000000   \n",
       "max       15.000100     52.000000    141.909091     34.066667  35682.000000   \n",
       "\n",
       "           AveOccup      Latitude     Longitude  \n",
       "count  20640.000000  20640.000000  20640.000000  \n",
       "mean       3.070655     35.631861   -119.569704  \n",
       "std       10.386050      2.135952      2.003532  \n",
       "min        0.692308     32.540000   -124.350000  \n",
       "25%        2.429741     33.930000   -121.800000  \n",
       "50%        2.818116     34.260000   -118.490000  \n",
       "75%        3.282261     37.710000   -118.010000  \n",
       "max     1243.333333     41.950000   -114.310000  "
      ]
     },
     "execution_count": 34,
     "metadata": {},
     "output_type": "execute_result"
    }
   ],
   "source": [
    "X.describe()"
   ]
  },
  {
   "cell_type": "code",
   "execution_count": 35,
   "id": "ecc23ef3-35db-4c6f-8548-119ffcb7f03e",
   "metadata": {},
   "outputs": [
    {
     "data": {
      "text/plain": [
       "count    20640.000000\n",
       "mean         2.068558\n",
       "std          1.153956\n",
       "min          0.149990\n",
       "25%          1.196000\n",
       "50%          1.797000\n",
       "75%          2.647250\n",
       "max          5.000010\n",
       "dtype: float64"
      ]
     },
     "execution_count": 35,
     "metadata": {},
     "output_type": "execute_result"
    }
   ],
   "source": [
    "Y.describe()"
   ]
  },
  {
   "cell_type": "code",
   "execution_count": 36,
   "id": "1296e71b-4eac-4bc9-9e15-6bb852a6aa8e",
   "metadata": {},
   "outputs": [
    {
     "name": "stdout",
     "output_type": "stream",
     "text": [
      "<class 'pandas.core.series.Series'>\n",
      "RangeIndex: 20640 entries, 0 to 20639\n",
      "Series name: None\n",
      "Non-Null Count  Dtype  \n",
      "--------------  -----  \n",
      "20640 non-null  float64\n",
      "dtypes: float64(1)\n",
      "memory usage: 161.4 KB\n"
     ]
    }
   ],
   "source": [
    "Y.info()"
   ]
  },
  {
   "cell_type": "markdown",
   "id": "5831169c-262d-43f1-b822-4c1313ce81c2",
   "metadata": {},
   "source": [
    "##### - used X.info() and Y.info() to get information about the features and structure of the dataset.\n",
    "##### - used X.describe() and Y.describe() to get a statistical summary of the dataset."
   ]
  },
  {
   "cell_type": "code",
   "execution_count": 39,
   "id": "857cd4d2-f083-45ba-9e8d-177e5b326862",
   "metadata": {},
   "outputs": [],
   "source": [
    "missing_values = X.isnull().sum()"
   ]
  },
  {
   "cell_type": "code",
   "execution_count": 40,
   "id": "d0df7c88-20bb-40a7-ba56-68069b9a2ece",
   "metadata": {},
   "outputs": [
    {
     "name": "stdout",
     "output_type": "stream",
     "text": [
      "MedInc        0\n",
      "HouseAge      0\n",
      "AveRooms      0\n",
      "AveBedrms     0\n",
      "Population    0\n",
      "AveOccup      0\n",
      "Latitude      0\n",
      "Longitude     0\n",
      "dtype: int64\n"
     ]
    }
   ],
   "source": [
    "print(missing_values)"
   ]
  },
  {
   "cell_type": "markdown",
   "id": "66d8d354-6268-49e6-a6ce-6073ed328636",
   "metadata": {},
   "source": [
    "###### isnull() function IS USED TO DETECT MISSING VALUES.THERE IS NO MISSING VALUES"
   ]
  },
  {
   "cell_type": "code",
   "execution_count": 41,
   "id": "ec7b0c14-b8ce-4e79-9887-82719292edf2",
   "metadata": {},
   "outputs": [
    {
     "name": "stdout",
     "output_type": "stream",
     "text": [
      "Scaled Dataset:\n",
      "[[ 2.34476576  0.98214266  0.62855945 -0.15375759 -0.9744286  -0.04959654\n",
      "   1.05254828 -1.32783522]\n",
      " [ 2.33223796 -0.60701891  0.32704136 -0.26333577  0.86143887 -0.09251223\n",
      "   1.04318455 -1.32284391]\n",
      " [ 1.7826994   1.85618152  1.15562047 -0.04901636 -0.82077735 -0.02584253\n",
      "   1.03850269 -1.33282653]\n",
      " [ 0.93296751  1.85618152  0.15696608 -0.04983292 -0.76602806 -0.0503293\n",
      "   1.03850269 -1.33781784]\n",
      " [-0.012881    1.85618152  0.3447108  -0.03290586 -0.75984669 -0.08561576\n",
      "   1.03850269 -1.33781784]\n",
      " [ 0.08744664  1.85618152 -0.26972966  0.01466934 -0.89407076 -0.08961842\n",
      "   1.03850269 -1.33781784]\n",
      " [-0.11136631  1.85618152 -0.2009177  -0.3066332  -0.29271158 -0.0907249\n",
      "   1.03382082 -1.33781784]\n",
      " [-0.39513665  1.85618152 -0.25523193 -0.07354166 -0.23707923 -0.12347647\n",
      "   1.03382082 -1.33781784]\n",
      " [-0.94235915  1.06160074 -0.45870257  0.04425393 -0.19380963 -0.1004992\n",
      "   1.03382082 -1.34280914]\n",
      " [-0.09446958  1.85618152 -0.18528316 -0.22468709  0.1108437  -0.08650142\n",
      "   1.03382082 -1.33781784]]\n"
     ]
    }
   ],
   "source": [
    "# Step 2: Feature Scaling\n",
    "from sklearn.preprocessing import StandardScaler\n",
    "scaler = StandardScaler()\n",
    "scaled_X = scaler.fit_transform(X)\n",
    "\n",
    "print(\"Scaled Dataset:\")\n",
    "print(scaled_X[:10])"
   ]
  },
  {
   "cell_type": "markdown",
   "id": "30a5ae51-5c78-43ab-9aa3-f7da23d88818",
   "metadata": {},
   "source": [
    "##### Using 'StandardScaler()' function,WE CAN ENSURE THE EFFICIENCY OF MACHIENE LEARNING MODEL"
   ]
  },
  {
   "cell_type": "code",
   "execution_count": 42,
   "id": "4f4c9afd-ab72-4f8a-892c-e3d986e8932e",
   "metadata": {},
   "outputs": [
    {
     "name": "stdout",
     "output_type": "stream",
     "text": [
      "X:  (16512, 8)\n",
      "X: (4128, 8)\n",
      "Y (16512,)\n",
      "Y: (4128,)\n"
     ]
    }
   ],
   "source": [
    "from sklearn.model_selection import train_test_split\n",
    "\n",
    "X_train, X_test, Y_train, Y_test = train_test_split(scaled_X, Y, test_size=0.2, random_state=42)\n",
    "\n",
    "print(\"X: \", X_train.shape)\n",
    "print(\"X:\", X_test.shape)\n",
    "print(\"Y\", Y_train.shape)\n",
    "print(\"Y:\", Y_test.shape)"
   ]
  },
  {
   "cell_type": "code",
   "execution_count": 43,
   "id": "e4c76b6c-dc86-42e6-ae56-b87306e3f6e7",
   "metadata": {},
   "outputs": [
    {
     "name": "stdout",
     "output_type": "stream",
     "text": [
      "\n",
      "Linear Regression\n",
      "Mean Squared Error: 0.5558915986952442\n",
      "Mean Absolute Error: 0.5332001304956565\n",
      "R² Score: 0.575787706032451\n",
      "\n",
      "Decision Tree Regressor\n",
      "Mean Squared Error: 0.4942716777366763\n",
      "Mean Absolute Error: 0.4537843265503876\n",
      "R² Score: 0.6228111330554302\n",
      "\n",
      "Random Forest Regressor\n",
      "Mean Squared Error: 0.25549776668540763\n",
      "Mean Absolute Error: 0.32761306601259704\n",
      "R² Score: 0.805024407701793\n",
      "\n",
      "Gradient Boosting Regressor\n",
      "Mean Squared Error: 0.29399901242474274\n",
      "Mean Absolute Error: 0.37165044848436773\n",
      "R² Score: 0.7756433164710084\n",
      "\n",
      "Support Vector Regressor\n",
      "Mean Squared Error: 0.35519846199894217\n",
      "Mean Absolute Error: 0.39776309634378626\n",
      "R² Score: 0.7289407597956459\n"
     ]
    }
   ],
   "source": [
    "from sklearn.linear_model import LinearRegression\n",
    "from sklearn.tree import DecisionTreeRegressor\n",
    "from sklearn.ensemble import RandomForestRegressor, GradientBoostingRegressor\n",
    "from sklearn.svm import SVR\n",
    "from sklearn.metrics import mean_squared_error, mean_absolute_error, r2_score\n",
    "\n",
    "# Regression Algorithms \n",
    "models = {\n",
    "    \"Linear Regression\": LinearRegression(),\n",
    "    \"Decision Tree Regressor\": DecisionTreeRegressor(random_state=42),\n",
    "    \"Random Forest Regressor\": RandomForestRegressor(random_state=42),\n",
    "    \"Gradient Boosting Regressor\": GradientBoostingRegressor(random_state=42),\n",
    "    \"Support Vector Regressor\": SVR()\n",
    "}\n",
    "\n",
    "# Train and evaluate each model\n",
    "for name, model in models.items():\n",
    "    print(f\"\\n{name}\")\n",
    "    model.fit(X_train, Y_train)\n",
    "    Y_pred = model.predict(X_test)\n",
    "    Y_pred\n",
    "\n",
    "    # Calculate performance metrics\n",
    "    mse = mean_squared_error(Y_test, Y_pred)\n",
    "    mae = mean_absolute_error(Y_test, Y_pred)\n",
    "    r2 = r2_score(Y_test, Y_pred)\n",
    "\n",
    "    # Display results\n",
    "    print(f\"Mean Squared Error: {mse}\")\n",
    "    print(f\"Mean Absolute Error: {mae}\")\n",
    "    print(f\"R² Score: {r2}\")"
   ]
  },
  {
   "cell_type": "markdown",
   "id": "88f989b3-54b7-448b-9bd7-ea29d60edb5a",
   "metadata": {},
   "source": [
    "####  \n",
    "Comparison of Regression Models for California Housing Dataset\n",
    "\n",
    "Model 1: Linear Regression\n",
    "\n",
    ". How it works: Linear Regression models the relationship between features and the target by fitting a linear equation.\n",
    ". WHY: Suitable for linear relationships between features and the target. May not capture complex interactions.\n",
    "\n",
    "Model 2: Decision Tree Regressor\n",
    "\n",
    ".How it works: Decision Tree splits data into subsets using feature thresholds to reduce prediction error.\n",
    ". why: Captures non-linear relationships and feature interactions. Effective for housing prices influenced by non-linear factors.\n",
    "\n",
    "Model 3: Random Forest Regressor\n",
    "\n",
    ". How it works: Random Forest combines multiple decision trees to produce stable and accurate predictions.\n",
    ". why: Handles non-linearity and high-dimensional data well. Suitable for large feature spaces and complex relationships.\n",
    "\n",
    "Model 4: Gradient Boosting Regressor\n",
    "\n",
    ". How it works: Gradient Boosting builds models sequentially to correct errors and optimize a loss function.\n",
    ". why: Excels in capturing complex relationships with fine-tuned models. Suitable for high-accuracy goals.\n",
    "\n",
    "Model 5: Support Vector Regressor (SVR)\n",
    "\n",
    ". How it works: SVR finds a hyperplane that fits data points within a specified margin of tolerance.\n",
    ". why: Works well with small- to medium-sized datasets and handles non-linear relationships. May struggle with larger datasets due to computational complexity.\n"
   ]
  },
  {
   "cell_type": "markdown",
   "id": "05148f10-699f-4d6b-91d7-3a846ac1965e",
   "metadata": {},
   "source": [
    "#### Best Performing Model: Random Forest Regressor\n",
    "\n",
    "Mean Squared Error (MSE): 0.2555 \n",
    "\n",
    "Mean Absolute Error (MAE): 0.3276 \n",
    "\n",
    "R² Score: 0.8050 \n",
    "\n",
    "\n",
    " .Highest R² score (best fit to data)\n",
    " \n",
    " .Lowest MSE and MAE (most accurate predictions)\n",
    " \n",
    "  This combination of high accuracy and low error makes it the top-performing model."
   ]
  },
  {
   "cell_type": "markdown",
   "id": "dc08b80b-60a5-427e-a670-e5f1b0a82dcd",
   "metadata": {},
   "source": [
    "Worst Performing Model: Linear Regression\n",
    "\n",
    "Mean Squared Error (MSE): 0.5559 \n",
    "\n",
    "Mean Absolute Error (MAE): 0.5332\n",
    "\n",
    "R² Score: 0.5758 \n",
    "\n",
    "\n",
    "The Linear Regression model underperformed with:\n",
    "\n",
    ". Lowest R² score (least variance explained)\n",
    "\n",
    ". Highest MSE and MAE (least accurate predictions)\n",
    "\n",
    "This makes it the worst-performing model for this dataset."
   ]
  },
  {
   "cell_type": "code",
   "execution_count": null,
   "id": "560a2a0e-b8d4-4bf8-b0b6-a1eafd3564a7",
   "metadata": {},
   "outputs": [],
   "source": []
  }
 ],
 "metadata": {
  "kernelspec": {
   "display_name": "Python 3 (ipykernel)",
   "language": "python",
   "name": "python3"
  },
  "language_info": {
   "codemirror_mode": {
    "name": "ipython",
    "version": 3
   },
   "file_extension": ".py",
   "mimetype": "text/x-python",
   "name": "python",
   "nbconvert_exporter": "python",
   "pygments_lexer": "ipython3",
   "version": "3.12.7"
  }
 },
 "nbformat": 4,
 "nbformat_minor": 5
}
